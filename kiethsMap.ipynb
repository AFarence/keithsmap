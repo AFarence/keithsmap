{
 "cells": [
  {
   "cell_type": "code",
   "execution_count": 31,
   "metadata": {},
   "outputs": [],
   "source": [
    "from geopy.geocoders import GoogleV3\n",
    "import numpy as np\n",
    "import geocoder\n",
    "import json\n",
    "import pandas as pd\n",
    "from geojson import Feature, FeatureCollection, Point\n",
    "import re\n",
    "import geopandas as gpd"
   ]
  },
  {
   "cell_type": "code",
   "execution_count": 32,
   "metadata": {},
   "outputs": [
    {
     "data": {
      "text/html": [
       "<div>\n",
       "<style scoped>\n",
       "    .dataframe tbody tr th:only-of-type {\n",
       "        vertical-align: middle;\n",
       "    }\n",
       "\n",
       "    .dataframe tbody tr th {\n",
       "        vertical-align: top;\n",
       "    }\n",
       "\n",
       "    .dataframe thead th {\n",
       "        text-align: right;\n",
       "    }\n",
       "</style>\n",
       "<table border=\"1\" class=\"dataframe\">\n",
       "  <thead>\n",
       "    <tr style=\"text-align: right;\">\n",
       "      <th></th>\n",
       "      <th>address</th>\n",
       "      <th>full_address</th>\n",
       "    </tr>\n",
       "  </thead>\n",
       "  <tbody>\n",
       "    <tr>\n",
       "      <th>0</th>\n",
       "      <td>17 Devoe Street</td>\n",
       "      <td>17 Devoe StreetBrooklyn, New York, NY</td>\n",
       "    </tr>\n",
       "    <tr>\n",
       "      <th>1</th>\n",
       "      <td>165 Central Avenue</td>\n",
       "      <td>165 Central AvenueBrooklyn, New York, NY</td>\n",
       "    </tr>\n",
       "    <tr>\n",
       "      <th>2</th>\n",
       "      <td>198 Scholes Street</td>\n",
       "      <td>198 Scholes StreetBrooklyn, New York, NY</td>\n",
       "    </tr>\n",
       "    <tr>\n",
       "      <th>3</th>\n",
       "      <td>11 Gunther Place</td>\n",
       "      <td>11 Gunther PlaceBrooklyn, New York, NY</td>\n",
       "    </tr>\n",
       "    <tr>\n",
       "      <th>4</th>\n",
       "      <td>194 Ralph Avenue</td>\n",
       "      <td>194 Ralph AvenueBrooklyn, New York, NY</td>\n",
       "    </tr>\n",
       "    <tr>\n",
       "      <th>...</th>\n",
       "      <td>...</td>\n",
       "      <td>...</td>\n",
       "    </tr>\n",
       "    <tr>\n",
       "      <th>107</th>\n",
       "      <td>132A Stanhope Street</td>\n",
       "      <td>132A Stanhope StreetBrooklyn, New York, NY</td>\n",
       "    </tr>\n",
       "    <tr>\n",
       "      <th>108</th>\n",
       "      <td>268 Metropolitan Avenue</td>\n",
       "      <td>268 Metropolitan AvenueBrooklyn, New York, NY</td>\n",
       "    </tr>\n",
       "    <tr>\n",
       "      <th>109</th>\n",
       "      <td>236 Meserole Street</td>\n",
       "      <td>236 Meserole StreetBrooklyn, New York, NY</td>\n",
       "    </tr>\n",
       "    <tr>\n",
       "      <th>110</th>\n",
       "      <td>430 Albee</td>\n",
       "      <td>430 AlbeeBrooklyn, New York, NY</td>\n",
       "    </tr>\n",
       "    <tr>\n",
       "      <th>111</th>\n",
       "      <td>112 North Flats</td>\n",
       "      <td>112 North FlatsBrooklyn, New York, NY</td>\n",
       "    </tr>\n",
       "  </tbody>\n",
       "</table>\n",
       "<p>112 rows × 2 columns</p>\n",
       "</div>"
      ],
      "text/plain": [
       "                     address                                   full_address\n",
       "0            17 Devoe Street          17 Devoe StreetBrooklyn, New York, NY\n",
       "1         165 Central Avenue       165 Central AvenueBrooklyn, New York, NY\n",
       "2         198 Scholes Street       198 Scholes StreetBrooklyn, New York, NY\n",
       "3           11 Gunther Place         11 Gunther PlaceBrooklyn, New York, NY\n",
       "4           194 Ralph Avenue         194 Ralph AvenueBrooklyn, New York, NY\n",
       "..                       ...                                            ...\n",
       "107     132A Stanhope Street     132A Stanhope StreetBrooklyn, New York, NY\n",
       "108  268 Metropolitan Avenue  268 Metropolitan AvenueBrooklyn, New York, NY\n",
       "109      236 Meserole Street      236 Meserole StreetBrooklyn, New York, NY\n",
       "110                430 Albee                430 AlbeeBrooklyn, New York, NY\n",
       "111          112 North Flats          112 North FlatsBrooklyn, New York, NY\n",
       "\n",
       "[112 rows x 2 columns]"
      ]
     },
     "execution_count": 32,
     "metadata": {},
     "output_type": "execute_result"
    }
   ],
   "source": [
    "# Gotta figure out how to get rid of the java error.\n",
    "# SO: https://stackoverflow.com/questions/54817211/java-command-is-not-found-from-this-python-process-please-ensure-java-is-inst\n",
    "\n",
    "df = pd.read_csv('KeithsAddress - Sheet1.csv')\n",
    "df['full_address'] = df['address'] + 'Brooklyn, New York, NY'\n",
    "df"
   ]
  },
  {
   "cell_type": "code",
   "execution_count": 33,
   "metadata": {},
   "outputs": [],
   "source": [
    "# df = dsf[0]\n",
    "# df.columns = df.iloc[0]\n",
    "# df = df.drop(df.index[0])\n",
    "# ### This next line gets ride of the Nan ###\n",
    "# df = df.iloc[: , 1:]\n",
    "# df = df.replace(np.nan, 'Not Available', regex=True)\n",
    "# df = df.rename(columns={'Building / Address / City': 'building_address_city','Days on\\rMarket':'days_on_market',\\\n",
    "#                         'Price /\\rSq. Ft.':'price_per_sqft'})\n",
    "# df['geo_address'] = df['building_address_city']\n",
    "# df['geo_address'] = df['geo_address'].map(lambda x: re.sub(r'\\r', ' ', x))\n",
    "# df = df.replace('\\n',' ',regex=True)\n",
    "# df2 = df['geo_address'].str.extract(r'(?P<building_name>\\D*)(?P<address_only>\\d.*)', expand=True)"
   ]
  },
  {
   "cell_type": "code",
   "execution_count": 34,
   "metadata": {},
   "outputs": [],
   "source": [
    "# result = pd.merge(df,df2,left_index=True, right_index=True)\n",
    "# df = result"
   ]
  },
  {
   "cell_type": "code",
   "execution_count": 35,
   "metadata": {},
   "outputs": [],
   "source": [
    "%store -r google_maps_API_Key\n",
    "geolocator = GoogleV3(api_key=google_maps_API_Key)"
   ]
  },
  {
   "cell_type": "code",
   "execution_count": null,
   "metadata": {},
   "outputs": [],
   "source": [
    "df['loc'] = df['full_address'].apply(geolocator.geocode, timeout=10)"
   ]
  },
  {
   "cell_type": "code",
   "execution_count": null,
   "metadata": {},
   "outputs": [],
   "source": [
    "df['loc']"
   ]
  },
  {
   "cell_type": "code",
   "execution_count": null,
   "metadata": {},
   "outputs": [],
   "source": [
    "df['point'] = df['loc'].apply(lambda loc: tuple(loc.point) if loc else None)"
   ]
  },
  {
   "cell_type": "markdown",
   "metadata": {},
   "source": [
    "Columns must be same length as key explained\n",
    "- https://cumsum.wordpress.com/2021/06/01/pandas-valueerror-columns-must-be-same-length-as-key/\n",
    "\n",
    "Creating `df2` based on `df` row indicies.\n",
    "\n",
    "https://datascience.stackexchange.com/questions/77033/creating-a-new-dataframe-with-specific-row-numbers-from-another\n",
    "\n",
    "What's tripping this error is when the lat/lon/alititude generator is fed a Nan value to parse - it's effectively trying to split a `null` value into three separate parts - which is impossible.\n",
    "\n",
    "The code below effectively caputres the anatomy of this error. It creates a new `df` based on a list of indicies from an existing one. Row `56` has no `point` since the `geocoder` couldn't find coordinates for it. The other three do. Splitting the `point` column fails only when row `56` - with `null` values - is attempted.\n",
    "```\n",
    "df2 = df.iloc[[56,57,58,59],:]\n",
    "df2[['lat','lon','altitude']] = pd.DataFrame(df2['point'].to_list(),index=df2.index)\n",
    "```"
   ]
  },
  {
   "cell_type": "code",
   "execution_count": null,
   "metadata": {},
   "outputs": [],
   "source": [
    "df.columns"
   ]
  },
  {
   "cell_type": "code",
   "execution_count": null,
   "metadata": {},
   "outputs": [],
   "source": [
    "df[['lat','lon','altitude']] = pd.DataFrame(df['point'].to_list(),index=df.index)"
   ]
  },
  {
   "cell_type": "markdown",
   "metadata": {},
   "source": [
    "Folium documentation link: https://python-visualization.github.io/folium/index.html\n",
    "\n",
    "Folium is the library that lets us use leaflet with Python, since it's meant to be used with JavaScript.\n",
    "\n",
    "For adding titles: https://stackoverflow.com/questions/61928013/adding-a-title-or-text-to-a-folium-map"
   ]
  },
  {
   "cell_type": "code",
   "execution_count": null,
   "metadata": {},
   "outputs": [],
   "source": [
    "df"
   ]
  },
  {
   "cell_type": "code",
   "execution_count": null,
   "metadata": {},
   "outputs": [],
   "source": [
    "import folium\n",
    "from folium.plugins import MarkerCluster\n",
    "\n",
    "m = folium.Map(location=df[[\"lat\", \"lon\"]].mean().to_list(), zoom_start=11, tiles='CartoDB positron')\n",
    "title_html = '''\n",
    "              <h3 align=\"center\" style=\"font-size:16px\"><b>{}</b></h3>\n",
    "             '''.format(f'All Year\\'s Real Estate Holdings')\n",
    "\n",
    "marker_cluster = MarkerCluster().add_to(m)\n",
    "\n",
    "for i,r in df.iterrows():\n",
    "    location = (r[\"lat\"], r[\"lon\"])\n",
    "    info = (r[\"address\"], r[\"altitude\"])\n",
    "    info = list(info)\n",
    "    new_line = '<br>'\n",
    "    bold_start = '<strong>'\n",
    "    bold_end = '</strong>'\n",
    "    text = f'Building Address: {bold_start}{info[0]}{bold_end}{new_line}'\n",
    "    folium.Marker(location=location,\n",
    "                      tooltip=text)\\\n",
    "    .add_to(marker_cluster)\n",
    "\n",
    "m.get_root().html.add_child(folium.Element(title_html))\n",
    "m"
   ]
  },
  {
   "cell_type": "code",
   "execution_count": null,
   "metadata": {},
   "outputs": [],
   "source": [
    "url = (\"https://raw.githubusercontent.com/python-visualization/folium/master/examples/data\")\n",
    "nybb = f\"{url}/nybb.zip\"\n",
    "boros = gpd.read_file(nybb)\n",
    "\n",
    "# colors added\n",
    "fill_color = ['orange','yellow','purple','red','blue']\n",
    "boros['fill_color'] = fill_color\n",
    "\n",
    "from folium.features import GeoJsonTooltip\n",
    "\n",
    "tooltip = GeoJsonTooltip(\n",
    "    fields=[\"BoroName\"],\n",
    "    labels=True\n",
    "    )\n",
    "\n",
    "folium.GeoJson(boros,\n",
    "               style_function=lambda x: {'fillColor':x['properties']['fill_color']},\n",
    "               tooltip=tooltip\n",
    "               ).add_to(m)\n",
    "m.get_root().html.add_child(folium.Element(title_html))\n",
    "m"
   ]
  },
  {
   "cell_type": "code",
   "execution_count": null,
   "metadata": {},
   "outputs": [],
   "source": []
  },
  {
   "cell_type": "code",
   "execution_count": null,
   "metadata": {},
   "outputs": [],
   "source": []
  },
  {
   "cell_type": "code",
   "execution_count": null,
   "metadata": {},
   "outputs": [],
   "source": []
  },
  {
   "cell_type": "code",
   "execution_count": null,
   "metadata": {},
   "outputs": [],
   "source": [
    "m.save('index.html')"
   ]
  },
  {
   "cell_type": "code",
   "execution_count": null,
   "metadata": {},
   "outputs": [],
   "source": []
  }
 ],
 "metadata": {
  "kernelspec": {
   "display_name": "Python 3",
   "language": "python",
   "name": "python3"
  },
  "language_info": {
   "codemirror_mode": {
    "name": "ipython",
    "version": 3
   },
   "file_extension": ".py",
   "mimetype": "text/x-python",
   "name": "python",
   "nbconvert_exporter": "python",
   "pygments_lexer": "ipython3",
   "version": "3.8.6"
  },
  "toc": {
   "base_numbering": 1,
   "nav_menu": {},
   "number_sections": true,
   "sideBar": true,
   "skip_h1_title": false,
   "title_cell": "Table of Contents",
   "title_sidebar": "Contents",
   "toc_cell": false,
   "toc_position": {},
   "toc_section_display": true,
   "toc_window_display": false
  }
 },
 "nbformat": 4,
 "nbformat_minor": 4
}
